{
 "cells": [
  {
   "cell_type": "code",
   "execution_count": null,
   "metadata": {},
   "outputs": [],
   "source": [
    "import numpy as np\n",
    "import statsmodels\n",
    "import pandas as pd\n",
    "import statsmodels.formula.api as smf\n",
    "import statsmodels.stats.api as sms\n",
    "import sys"
   ]
  },
  {
   "cell_type": "code",
   "execution_count": null,
   "metadata": {},
   "outputs": [],
   "source": [
    "pvalues10 = pd.read_csv(\"data/passage_CpG_iterations/Heteroskedactiy_pvalues_FDR1.csv\") \n",
    "pvalues10.head(5)"
   ]
  },
  {
   "cell_type": "code",
   "execution_count": null,
   "metadata": {},
   "outputs": [],
   "source": [
    "pval_BP = pd.DataFrame(pvalues10[\"0\"])\n",
    "pval_diff = pd.DataFrame(pvalues10[\"1\"])\n",
    "mean_db = pd.DataFrame(pvalues10[\"2\"])\n",
    "fdr_BP = pd.DataFrame(pvalues10[\"3\"])\n",
    "fdr_diff = pd.DataFrame(pvalues10[\"4\"])"
   ]
  },
  {
   "cell_type": "code",
   "execution_count": null,
   "metadata": {},
   "outputs": [],
   "source": [
    "for i in range(11,1000,10): #\n",
    "    pvalues = pd.read_csv(\"data/passage_CpG_iterations/Heteroskedactiy_pvalues_FDR\" + str(i) + \".csv\") \n",
    "    pval_BP[\"\" + str(i)] = pd.to_numeric(pvalues[\"0\"])\n",
    "    pval_diff[\"\" + str(i)] = pd.to_numeric(pvalues[\"1\"])\n",
    "    mean_db[\"\" + str(i)] = pd.DataFrame(pvalues[\"2\"])\n",
    "    fdr_BP[\"\" + str(i)] = pd.DataFrame(pvalues[\"3\"])\n",
    "    fdr_diff[\"\" + str(i)] = pd.DataFrame(pvalues[\"4\"])\n",
    "\n",
    "pval_BP = pval_BP.sum(axis = 1, skipna = True) \n",
    "pval_diff = pval_diff.sum(axis = 1, skipna = True) \n",
    "mean_db = mean_db.mean(axis = 1, skipna = True) \n",
    "fdr_BP = fdr_BP.sum(axis = 1, skipna = True) \n",
    "fdr_diff = fdr_diff.sum(axis = 1, skipna = True) \n",
    "\n",
    "pval_BP_df = pd.DataFrame([pval_BP, pval_diff,mean_db,fdr_BP,fdr_diff])\n",
    "pval_BP_df = pval_BP_df.transpose() \n",
    "pval_BP_df.to_csv(\"data/Heteroskedactiy_pvalues_FDR_1000iter.csv\") "
   ]
  }
 ],
 "metadata": {
  "kernelspec": {
   "display_name": "Python 3",
   "language": "python",
   "name": "python3"
  },
  "language_info": {
   "codemirror_mode": {
    "name": "ipython",
    "version": 3
   },
   "file_extension": ".py",
   "mimetype": "text/x-python",
   "name": "python",
   "nbconvert_exporter": "python",
   "pygments_lexer": "ipython3",
   "version": "3.7.1"
  }
 },
 "nbformat": 4,
 "nbformat_minor": 2
}
