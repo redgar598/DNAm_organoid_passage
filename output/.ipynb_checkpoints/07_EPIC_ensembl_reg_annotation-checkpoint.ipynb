{
 "cells": [
  {
   "cell_type": "markdown",
   "metadata": {},
   "source": [
    "Human genome regulatory features were collected for hg37 to match the coordinates given for EPIC array CpG as given in hg37. The regulatory build (https://europepmc.org/articles/PMC4407537 http://grch37.ensembl.org/info/genome/funcgen/regulatory_build.html) was downloaded using biomart. CpGs on the EPIC were annotated as overlapping the 6 regulatory region described or not overlapping any annotated region."
   ]
  },
  {
   "cell_type": "code",
   "execution_count": 2,
   "metadata": {},
   "outputs": [],
   "source": [
    "### EPIC annotation with Reg feature\n",
    "import pandas as pd\n",
    "from numpy import genfromtxt\n",
    "from itertools import chain\n",
    "import sys\n",
    "from collections import Counter\n",
    "import functools"
   ]
  },
  {
   "cell_type": "code",
   "execution_count": 3,
   "metadata": {},
   "outputs": [
    {
     "data": {
      "text/plain": [
       "'/home/redgar/Documents/organoid_passage_DNAm'"
      ]
     },
     "execution_count": 3,
     "metadata": {},
     "output_type": "execute_result"
    }
   ],
   "source": [
    "import os\n",
    "os.chdir('../')\n",
    "os.getcwd()"
   ]
  },
  {
   "cell_type": "code",
   "execution_count": 13,
   "metadata": {},
   "outputs": [
    {
     "data": {
      "text/html": [
       "<div>\n",
       "<style scoped>\n",
       "    .dataframe tbody tr th:only-of-type {\n",
       "        vertical-align: middle;\n",
       "    }\n",
       "\n",
       "    .dataframe tbody tr th {\n",
       "        vertical-align: top;\n",
       "    }\n",
       "\n",
       "    .dataframe thead th {\n",
       "        text-align: right;\n",
       "    }\n",
       "</style>\n",
       "<table border=\"1\" class=\"dataframe\">\n",
       "  <thead>\n",
       "    <tr style=\"text-align: right;\">\n",
       "      <th></th>\n",
       "      <th>chr</th>\n",
       "      <th>start</th>\n",
       "      <th>end</th>\n",
       "      <th>Feature</th>\n",
       "    </tr>\n",
       "  </thead>\n",
       "  <tbody>\n",
       "    <tr>\n",
       "      <td>0</td>\n",
       "      <td>18</td>\n",
       "      <td>41514401</td>\n",
       "      <td>41515600</td>\n",
       "      <td>Promoter Flanking Region</td>\n",
       "    </tr>\n",
       "    <tr>\n",
       "      <td>1</td>\n",
       "      <td>12</td>\n",
       "      <td>90864334</td>\n",
       "      <td>90864573</td>\n",
       "      <td>Open chromatin</td>\n",
       "    </tr>\n",
       "    <tr>\n",
       "      <td>2</td>\n",
       "      <td>6</td>\n",
       "      <td>55951402</td>\n",
       "      <td>55952653</td>\n",
       "      <td>Promoter Flanking Region</td>\n",
       "    </tr>\n",
       "  </tbody>\n",
       "</table>\n",
       "</div>"
      ],
      "text/plain": [
       "  chr     start       end                   Feature\n",
       "0  18  41514401  41515600  Promoter Flanking Region\n",
       "1  12  90864334  90864573            Open chromatin\n",
       "2   6  55951402  55952653  Promoter Flanking Region"
      ]
     },
     "execution_count": 13,
     "metadata": {},
     "output_type": "execute_result"
    }
   ],
   "source": [
    "Feature_bed = 'data/human_regulatory_features_GRCh37p13.txt'\n",
    "background = 'data/passage_background.csv'\n",
    "\n",
    "Feature_bed = pd.read_csv(Feature_bed, header=None, names=['chr','start','end','Feature'],skiprows=1)\n",
    "CpG_background_pd = pd.read_csv(background)\n",
    "\n",
    "Feature_bed.head(3)"
   ]
  },
  {
   "cell_type": "code",
   "execution_count": 14,
   "metadata": {},
   "outputs": [
    {
     "data": {
      "text/html": [
       "<div>\n",
       "<style scoped>\n",
       "    .dataframe tbody tr th:only-of-type {\n",
       "        vertical-align: middle;\n",
       "    }\n",
       "\n",
       "    .dataframe tbody tr th {\n",
       "        vertical-align: top;\n",
       "    }\n",
       "\n",
       "    .dataframe thead th {\n",
       "        text-align: right;\n",
       "    }\n",
       "</style>\n",
       "<table border=\"1\" class=\"dataframe\">\n",
       "  <thead>\n",
       "    <tr style=\"text-align: right;\">\n",
       "      <th></th>\n",
       "      <th>IlmnID</th>\n",
       "      <th>CHR</th>\n",
       "      <th>MAPINFO</th>\n",
       "    </tr>\n",
       "  </thead>\n",
       "  <tbody>\n",
       "    <tr>\n",
       "      <td>0</td>\n",
       "      <td>cg07881041</td>\n",
       "      <td>19</td>\n",
       "      <td>5236016</td>\n",
       "    </tr>\n",
       "    <tr>\n",
       "      <td>1</td>\n",
       "      <td>cg18478105</td>\n",
       "      <td>20</td>\n",
       "      <td>61847650</td>\n",
       "    </tr>\n",
       "    <tr>\n",
       "      <td>2</td>\n",
       "      <td>cg23229610</td>\n",
       "      <td>1</td>\n",
       "      <td>6841125</td>\n",
       "    </tr>\n",
       "  </tbody>\n",
       "</table>\n",
       "</div>"
      ],
      "text/plain": [
       "       IlmnID  CHR   MAPINFO\n",
       "0  cg07881041   19   5236016\n",
       "1  cg18478105   20  61847650\n",
       "2  cg23229610    1   6841125"
      ]
     },
     "execution_count": 14,
     "metadata": {},
     "output_type": "execute_result"
    }
   ],
   "source": [
    "CpG_background_pd.head(3)"
   ]
  },
  {
   "cell_type": "markdown",
   "metadata": {},
   "source": [
    "Pulling a range of CpGs for an example of the annotation. The actual code takes the reange as arguments as commented out below."
   ]
  },
  {
   "cell_type": "code",
   "execution_count": 15,
   "metadata": {},
   "outputs": [],
   "source": [
    "CpG_start = 0\n",
    "CpG_end = 10\n",
    "\n",
    "#CpG_start = int(sys.argv[1])\n",
    "#CpG_end = int(sys.argv[1])+10000\n",
    "\n",
    "# subset to system arguments\n",
    "CpG_background_pd = CpG_background_pd[CpG_start:CpG_end]"
   ]
  },
  {
   "cell_type": "code",
   "execution_count": 16,
   "metadata": {},
   "outputs": [],
   "source": [
    "# make merge object to fill missing TFs to 0 if any\n",
    "features = Feature_bed\n",
    "features['count'] = 0\n",
    "features = features[['Feature','count']]\n",
    "features = pd.DataFrame.drop_duplicates(features)"
   ]
  },
  {
   "cell_type": "code",
   "execution_count": 17,
   "metadata": {},
   "outputs": [
    {
     "data": {
      "text/html": [
       "<div>\n",
       "<style scoped>\n",
       "    .dataframe tbody tr th:only-of-type {\n",
       "        vertical-align: middle;\n",
       "    }\n",
       "\n",
       "    .dataframe tbody tr th {\n",
       "        vertical-align: top;\n",
       "    }\n",
       "\n",
       "    .dataframe thead th {\n",
       "        text-align: right;\n",
       "    }\n",
       "</style>\n",
       "<table border=\"1\" class=\"dataframe\">\n",
       "  <thead>\n",
       "    <tr style=\"text-align: right;\">\n",
       "      <th></th>\n",
       "      <th>Feature</th>\n",
       "      <th>count</th>\n",
       "    </tr>\n",
       "  </thead>\n",
       "  <tbody>\n",
       "    <tr>\n",
       "      <td>0</td>\n",
       "      <td>Promoter Flanking Region</td>\n",
       "      <td>0</td>\n",
       "    </tr>\n",
       "    <tr>\n",
       "      <td>1</td>\n",
       "      <td>Open chromatin</td>\n",
       "      <td>0</td>\n",
       "    </tr>\n",
       "    <tr>\n",
       "      <td>3</td>\n",
       "      <td>CTCF Binding Site</td>\n",
       "      <td>0</td>\n",
       "    </tr>\n",
       "  </tbody>\n",
       "</table>\n",
       "</div>"
      ],
      "text/plain": [
       "                    Feature  count\n",
       "0  Promoter Flanking Region      0\n",
       "1            Open chromatin      0\n",
       "3         CTCF Binding Site      0"
      ]
     },
     "execution_count": 17,
     "metadata": {},
     "output_type": "execute_result"
    }
   ],
   "source": [
    "features.head(3)"
   ]
  },
  {
   "cell_type": "code",
   "execution_count": 18,
   "metadata": {},
   "outputs": [],
   "source": [
    "### Actual background SNPs in TFBS\n",
    "EPIC_features=[]\n",
    "\n",
    "for snp, row in CpG_background_pd.iterrows():\n",
    "    # match chromosome\n",
    "    chr_features = Feature_bed.loc[Feature_bed['chr'] == str(row['CHR'])]\n",
    "\n",
    "    features_snp_in = []\n",
    "    for feat in range(1,len(chr_features.index)):#chr_TFBS.size\n",
    "        if chr_features['start'].iloc[feat] <= row['MAPINFO'] <= chr_features['end'].iloc[feat]:\n",
    "            features_snp_in.append(chr_features['Feature'].iloc[feat])\n",
    "\n",
    "    EPIC_features.append([row['IlmnID'], features_snp_in])"
   ]
  },
  {
   "cell_type": "code",
   "execution_count": 20,
   "metadata": {},
   "outputs": [
    {
     "data": {
      "text/html": [
       "<div>\n",
       "<style scoped>\n",
       "    .dataframe tbody tr th:only-of-type {\n",
       "        vertical-align: middle;\n",
       "    }\n",
       "\n",
       "    .dataframe tbody tr th {\n",
       "        vertical-align: top;\n",
       "    }\n",
       "\n",
       "    .dataframe thead th {\n",
       "        text-align: right;\n",
       "    }\n",
       "</style>\n",
       "<table border=\"1\" class=\"dataframe\">\n",
       "  <thead>\n",
       "    <tr style=\"text-align: right;\">\n",
       "      <th></th>\n",
       "      <th>0</th>\n",
       "      <th>1</th>\n",
       "    </tr>\n",
       "  </thead>\n",
       "  <tbody>\n",
       "    <tr>\n",
       "      <td>0</td>\n",
       "      <td>cg07881041</td>\n",
       "      <td>[]</td>\n",
       "    </tr>\n",
       "    <tr>\n",
       "      <td>1</td>\n",
       "      <td>cg18478105</td>\n",
       "      <td>[CTCF Binding Site, Promoter]</td>\n",
       "    </tr>\n",
       "    <tr>\n",
       "      <td>2</td>\n",
       "      <td>cg23229610</td>\n",
       "      <td>[]</td>\n",
       "    </tr>\n",
       "    <tr>\n",
       "      <td>3</td>\n",
       "      <td>cg03513874</td>\n",
       "      <td>[]</td>\n",
       "    </tr>\n",
       "    <tr>\n",
       "      <td>4</td>\n",
       "      <td>cg05451842</td>\n",
       "      <td>[CTCF Binding Site, Promoter]</td>\n",
       "    </tr>\n",
       "    <tr>\n",
       "      <td>5</td>\n",
       "      <td>cg14797042</td>\n",
       "      <td>[Promoter Flanking Region]</td>\n",
       "    </tr>\n",
       "    <tr>\n",
       "      <td>6</td>\n",
       "      <td>cg09838562</td>\n",
       "      <td>[CTCF Binding Site, Promoter]</td>\n",
       "    </tr>\n",
       "    <tr>\n",
       "      <td>7</td>\n",
       "      <td>cg25458538</td>\n",
       "      <td>[Promoter Flanking Region]</td>\n",
       "    </tr>\n",
       "    <tr>\n",
       "      <td>8</td>\n",
       "      <td>cg14361672</td>\n",
       "      <td>[Promoter, CTCF Binding Site]</td>\n",
       "    </tr>\n",
       "    <tr>\n",
       "      <td>9</td>\n",
       "      <td>cg01763666</td>\n",
       "      <td>[]</td>\n",
       "    </tr>\n",
       "  </tbody>\n",
       "</table>\n",
       "</div>"
      ],
      "text/plain": [
       "            0                              1\n",
       "0  cg07881041                             []\n",
       "1  cg18478105  [CTCF Binding Site, Promoter]\n",
       "2  cg23229610                             []\n",
       "3  cg03513874                             []\n",
       "4  cg05451842  [CTCF Binding Site, Promoter]\n",
       "5  cg14797042     [Promoter Flanking Region]\n",
       "6  cg09838562  [CTCF Binding Site, Promoter]\n",
       "7  cg25458538     [Promoter Flanking Region]\n",
       "8  cg14361672  [Promoter, CTCF Binding Site]\n",
       "9  cg01763666                             []"
      ]
     },
     "execution_count": 20,
     "metadata": {},
     "output_type": "execute_result"
    }
   ],
   "source": [
    "df = pd.DataFrame(EPIC_features)\n",
    "df"
   ]
  },
  {
   "cell_type": "code",
   "execution_count": null,
   "metadata": {},
   "outputs": [],
   "source": [
    "df.to_csv(\"data/annotation_split/EPIC_Features\" + sys.argv[1] + \".csv\") "
   ]
  }
 ],
 "metadata": {
  "kernelspec": {
   "display_name": "Python 3",
   "language": "python",
   "name": "python3"
  },
  "language_info": {
   "codemirror_mode": {
    "name": "ipython",
    "version": 3
   },
   "file_extension": ".py",
   "mimetype": "text/x-python",
   "name": "python",
   "nbconvert_exporter": "python",
   "pygments_lexer": "ipython3",
   "version": "3.7.1"
  }
 },
 "nbformat": 4,
 "nbformat_minor": 2
}
