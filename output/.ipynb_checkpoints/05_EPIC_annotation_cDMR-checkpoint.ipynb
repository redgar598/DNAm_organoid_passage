{
 "cells": [
  {
   "cell_type": "code",
   "execution_count": 1,
   "metadata": {},
   "outputs": [],
   "source": [
    "import pandas as pd\n",
    "from numpy import genfromtxt\n",
    "from itertools import chain\n",
    "import sys\n",
    "from collections import Counter\n",
    "import functools"
   ]
  },
  {
   "cell_type": "code",
   "execution_count": 2,
   "metadata": {},
   "outputs": [
    {
     "data": {
      "text/plain": [
       "'/home/redgar/Documents/organoid_passage_DNAm'"
      ]
     },
     "execution_count": 2,
     "metadata": {},
     "output_type": "execute_result"
    }
   ],
   "source": [
    "import os\n",
    "os.chdir('../')\n",
    "os.getcwd()"
   ]
  },
  {
   "cell_type": "markdown",
   "metadata": {},
   "source": [
    "I have exported the annotation of the EPIC from R in the previous script. Here I use hg18/build36 as the cDMR annotation has genome build 36 coordinates."
   ]
  },
  {
   "cell_type": "code",
   "execution_count": 3,
   "metadata": {},
   "outputs": [],
   "source": [
    "# https://www.nature.com/articles/ng.298#Sec25\n",
    "# supplementary data 2\n",
    "Feature_bed = 'data/41588_2009_BFng298_MOESM18_ESM.csv'\n",
    "background = 'data/passage_background_build36.csv'\n",
    "\n",
    "Feature_bed = pd.read_csv(Feature_bed, header=1,skiprows=2)\n",
    "CpG_background_pd = pd.read_csv(background)\n",
    "\n",
    "Feature_bed['chr'] = Feature_bed['chr'].str.replace('chr','')\n"
   ]
  },
  {
   "cell_type": "markdown",
   "metadata": {},
   "source": [
    "Pulling a range of CpGs for an example of the annotation. The actual code takes the reange as arguments as commented out below."
   ]
  },
  {
   "cell_type": "code",
   "execution_count": 6,
   "metadata": {},
   "outputs": [],
   "source": [
    "CpG_start = 15690\n",
    "CpG_end = 15698\n",
    "\n",
    "#CpG_start = int(sys.argv[1])\n",
    "#CpG_end = int(sys.argv[1])+10000"
   ]
  },
  {
   "cell_type": "markdown",
   "metadata": {},
   "source": [
    "This pulls on cDMR on the same chromosome as a CpG, then if a CpG is within a cDMR it returns the delta M of that cDMR so we can later compared direction of DNAm change. "
   ]
  },
  {
   "cell_type": "code",
   "execution_count": 7,
   "metadata": {},
   "outputs": [],
   "source": [
    "# subset to system arguments\n",
    "CpG_background_pd = CpG_background_pd[CpG_start:CpG_end]\n",
    "\n",
    "### Actual background SNPs in TFBS\n",
    "EPIC_features=[]\n",
    "\n",
    "for snp, row in CpG_background_pd.iterrows():\n",
    "    # match chromosome\n",
    "    chr_features = Feature_bed.loc[Feature_bed['chr'] == str(row['Chromosome_36'])]\n",
    "\n",
    "    features_snp_in = []\n",
    "    for feat in range(0,len(chr_features.index)):#chr_TFBS.size\n",
    "        if chr_features['start'].iloc[feat] <= int(row['Coordinate_36']) <= chr_features['end'].iloc[feat]:\n",
    "            features_snp_in.append(chr_features['delta M'].iloc[feat])\n",
    "\n",
    "    EPIC_features.append([row['IlmnID'], features_snp_in])\n",
    "\n",
    "df = pd.DataFrame(EPIC_features)"
   ]
  },
  {
   "cell_type": "code",
   "execution_count": 10,
   "metadata": {},
   "outputs": [
    {
     "data": {
      "text/html": [
       "<div>\n",
       "<style scoped>\n",
       "    .dataframe tbody tr th:only-of-type {\n",
       "        vertical-align: middle;\n",
       "    }\n",
       "\n",
       "    .dataframe tbody tr th {\n",
       "        vertical-align: top;\n",
       "    }\n",
       "\n",
       "    .dataframe thead th {\n",
       "        text-align: right;\n",
       "    }\n",
       "</style>\n",
       "<table border=\"1\" class=\"dataframe\">\n",
       "  <thead>\n",
       "    <tr style=\"text-align: right;\">\n",
       "      <th></th>\n",
       "      <th>Unnamed: 0</th>\n",
       "      <th>chr</th>\n",
       "      <th>start</th>\n",
       "      <th>end</th>\n",
       "      <th>delta M</th>\n",
       "      <th>colon.tumor</th>\n",
       "      <th>colon.normal</th>\n",
       "      <th>fdr</th>\n",
       "      <th>state</th>\n",
       "      <th>name</th>\n",
       "      <th>annotation</th>\n",
       "      <th>region</th>\n",
       "      <th>distance</th>\n",
       "      <th>island</th>\n",
       "      <th>distToIsla</th>\n",
       "    </tr>\n",
       "  </thead>\n",
       "  <tbody>\n",
       "    <tr>\n",
       "      <td>5</td>\n",
       "      <td>31523</td>\n",
       "      <td>19</td>\n",
       "      <td>5159373</td>\n",
       "      <td>5160095</td>\n",
       "      <td>-1.014437</td>\n",
       "      <td>1.521337</td>\n",
       "      <td>2.518715</td>\n",
       "      <td>0.0</td>\n",
       "      <td>Less methylation</td>\n",
       "      <td>PTPRS</td>\n",
       "      <td>NM_130854</td>\n",
       "      <td>inside</td>\n",
       "      <td>131718</td>\n",
       "      <td>Far</td>\n",
       "      <td>1469</td>\n",
       "    </tr>\n",
       "    <tr>\n",
       "      <td>6</td>\n",
       "      <td>31686</td>\n",
       "      <td>19</td>\n",
       "      <td>5297115</td>\n",
       "      <td>5297780</td>\n",
       "      <td>-0.932921</td>\n",
       "      <td>0.299673</td>\n",
       "      <td>1.256909</td>\n",
       "      <td>0.0</td>\n",
       "      <td>No methylation</td>\n",
       "      <td>PTPRS</td>\n",
       "      <td>NM_130854</td>\n",
       "      <td>upstream</td>\n",
       "      <td>5302</td>\n",
       "      <td>Far</td>\n",
       "      <td>-5054</td>\n",
       "    </tr>\n",
       "    <tr>\n",
       "      <td>7</td>\n",
       "      <td>32005</td>\n",
       "      <td>19</td>\n",
       "      <td>55631525</td>\n",
       "      <td>55632172</td>\n",
       "      <td>-0.846214</td>\n",
       "      <td>0.704149</td>\n",
       "      <td>1.674941</td>\n",
       "      <td>0.0</td>\n",
       "      <td>Less methylation</td>\n",
       "      <td>MYBPC2</td>\n",
       "      <td>NM_004533</td>\n",
       "      <td>inside</td>\n",
       "      <td>29216</td>\n",
       "      <td>Shore</td>\n",
       "      <td>-4036</td>\n",
       "    </tr>\n",
       "    <tr>\n",
       "      <td>8</td>\n",
       "      <td>32467</td>\n",
       "      <td>19</td>\n",
       "      <td>60702435</td>\n",
       "      <td>60703541</td>\n",
       "      <td>-0.930610</td>\n",
       "      <td>1.307662</td>\n",
       "      <td>2.173489</td>\n",
       "      <td>0.0</td>\n",
       "      <td>Less methylation</td>\n",
       "      <td>NAT14</td>\n",
       "      <td>NM_020378</td>\n",
       "      <td>upstream</td>\n",
       "      <td>11689</td>\n",
       "      <td>Shore</td>\n",
       "      <td>3082</td>\n",
       "    </tr>\n",
       "  </tbody>\n",
       "</table>\n",
       "</div>"
      ],
      "text/plain": [
       "   Unnamed: 0 chr     start       end   delta M  colon.tumor  colon.normal  \\\n",
       "5       31523  19   5159373   5160095 -1.014437     1.521337      2.518715   \n",
       "6       31686  19   5297115   5297780 -0.932921     0.299673      1.256909   \n",
       "7       32005  19  55631525  55632172 -0.846214     0.704149      1.674941   \n",
       "8       32467  19  60702435  60703541 -0.930610     1.307662      2.173489   \n",
       "\n",
       "   fdr             state    name annotation    region  distance island  \\\n",
       "5  0.0  Less methylation   PTPRS  NM_130854    inside    131718    Far   \n",
       "6  0.0    No methylation   PTPRS  NM_130854  upstream      5302    Far   \n",
       "7  0.0  Less methylation  MYBPC2  NM_004533    inside     29216  Shore   \n",
       "8  0.0  Less methylation   NAT14  NM_020378  upstream     11689  Shore   \n",
       "\n",
       "   distToIsla  \n",
       "5        1469  \n",
       "6       -5054  \n",
       "7       -4036  \n",
       "8        3082  "
      ]
     },
     "execution_count": 10,
     "metadata": {},
     "output_type": "execute_result"
    }
   ],
   "source": [
    "chr_features = Feature_bed.loc[Feature_bed['chr'] == str(19)]\n",
    "chr_features.head(4)"
   ]
  },
  {
   "cell_type": "code",
   "execution_count": 11,
   "metadata": {},
   "outputs": [
    {
     "data": {
      "text/html": [
       "<div>\n",
       "<style scoped>\n",
       "    .dataframe tbody tr th:only-of-type {\n",
       "        vertical-align: middle;\n",
       "    }\n",
       "\n",
       "    .dataframe tbody tr th {\n",
       "        vertical-align: top;\n",
       "    }\n",
       "\n",
       "    .dataframe thead th {\n",
       "        text-align: right;\n",
       "    }\n",
       "</style>\n",
       "<table border=\"1\" class=\"dataframe\">\n",
       "  <thead>\n",
       "    <tr style=\"text-align: right;\">\n",
       "      <th></th>\n",
       "      <th>0</th>\n",
       "      <th>1</th>\n",
       "    </tr>\n",
       "  </thead>\n",
       "  <tbody>\n",
       "    <tr>\n",
       "      <td>0</td>\n",
       "      <td>cg10994086</td>\n",
       "      <td>[]</td>\n",
       "    </tr>\n",
       "    <tr>\n",
       "      <td>1</td>\n",
       "      <td>cg25613541</td>\n",
       "      <td>[]</td>\n",
       "    </tr>\n",
       "    <tr>\n",
       "      <td>2</td>\n",
       "      <td>cg20741185</td>\n",
       "      <td>[]</td>\n",
       "    </tr>\n",
       "    <tr>\n",
       "      <td>3</td>\n",
       "      <td>cg23474190</td>\n",
       "      <td>[-1.163675835]</td>\n",
       "    </tr>\n",
       "    <tr>\n",
       "      <td>4</td>\n",
       "      <td>cg24882192</td>\n",
       "      <td>[]</td>\n",
       "    </tr>\n",
       "    <tr>\n",
       "      <td>5</td>\n",
       "      <td>cg07668358</td>\n",
       "      <td>[]</td>\n",
       "    </tr>\n",
       "    <tr>\n",
       "      <td>6</td>\n",
       "      <td>cg11285206</td>\n",
       "      <td>[]</td>\n",
       "    </tr>\n",
       "    <tr>\n",
       "      <td>7</td>\n",
       "      <td>cg14298379</td>\n",
       "      <td>[]</td>\n",
       "    </tr>\n",
       "  </tbody>\n",
       "</table>\n",
       "</div>"
      ],
      "text/plain": [
       "            0               1\n",
       "0  cg10994086              []\n",
       "1  cg25613541              []\n",
       "2  cg20741185              []\n",
       "3  cg23474190  [-1.163675835]\n",
       "4  cg24882192              []\n",
       "5  cg07668358              []\n",
       "6  cg11285206              []\n",
       "7  cg14298379              []"
      ]
     },
     "execution_count": 11,
     "metadata": {},
     "output_type": "execute_result"
    }
   ],
   "source": [
    "df"
   ]
  },
  {
   "cell_type": "code",
   "execution_count": null,
   "metadata": {},
   "outputs": [],
   "source": [
    "df.to_csv(\"data/annotation_split/EPIC_Features_cDMR36_\" + sys.argv[1] + \".csv\") "
   ]
  }
 ],
 "metadata": {
  "kernelspec": {
   "display_name": "Python 3",
   "language": "python",
   "name": "python3"
  },
  "language_info": {
   "codemirror_mode": {
    "name": "ipython",
    "version": 3
   },
   "file_extension": ".py",
   "mimetype": "text/x-python",
   "name": "python",
   "nbconvert_exporter": "python",
   "pygments_lexer": "ipython3",
   "version": "3.7.1"
  }
 },
 "nbformat": 4,
 "nbformat_minor": 2
}
