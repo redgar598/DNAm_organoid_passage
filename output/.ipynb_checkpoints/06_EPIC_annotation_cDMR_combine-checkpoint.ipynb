{
 "cells": [
  {
   "cell_type": "code",
   "execution_count": null,
   "metadata": {},
   "outputs": [],
   "source": [
    "import numpy as np\n",
    "import statsmodels\n",
    "import pandas as pd\n",
    "import statsmodels.formula.api as smf\n",
    "import statsmodels.stats.api as sms\n",
    "import sys"
   ]
  },
  {
   "cell_type": "code",
   "execution_count": null,
   "metadata": {},
   "outputs": [],
   "source": [
    "import os\n",
    "os.chdir('../')\n",
    "os.getcwd()"
   ]
  },
  {
   "cell_type": "code",
   "execution_count": null,
   "metadata": {},
   "outputs": [],
   "source": [
    "EPIC_annot = []\n",
    "\n",
    "for i in range(0,810000,10000): #for i in range(0,800000,10000):\n",
    "    EPICnext = pd.read_csv(\"data/annotation_split/EPIC_Features_cDMR36_\" + str(i) + \".csv\")\n",
    "    EPIC_annot.append(EPICnext)\n",
    "\n",
    "\n",
    "EPIC_annot = pd.concat(EPIC_annot)\n",
    "EPIC_annot.to_csv(\"data/EPIC_Features_cDMR36.csv\") "
   ]
  }
 ],
 "metadata": {
  "kernelspec": {
   "display_name": "Python 3",
   "language": "python",
   "name": "python3"
  },
  "language_info": {
   "codemirror_mode": {
    "name": "ipython",
    "version": 3
   },
   "file_extension": ".py",
   "mimetype": "text/x-python",
   "name": "python",
   "nbconvert_exporter": "python",
   "pygments_lexer": "ipython3",
   "version": "3.7.1"
  }
 },
 "nbformat": 4,
 "nbformat_minor": 2
}
